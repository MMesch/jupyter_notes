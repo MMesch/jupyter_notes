{
 "cells": [
  {
   "cell_type": "code",
   "execution_count": 1,
   "metadata": {
    "collapsed": true
   },
   "outputs": [],
   "source": [
    "import numpy as np\n",
    "import pandas as pd\n",
    "import seaborn as sns\n",
    "from IPython.core.display import display, HTML, Javascript\n",
    "import json\n",
    "    \n",
    "def recurse(model, node=None, rules=None, feature_names=None, feature_type=None):\n",
    "    if node is None:\n",
    "        node = 0\n",
    "        \n",
    "    if rules is None:\n",
    "        rules = {'name': 'node{:d}'.format(node),\n",
    "                 'rule': 'root',\n",
    "                 'values': list(model.tree_.value[node].flatten())}\n",
    "        \n",
    "    if model.tree_.feature[node] != _tree.TREE_UNDEFINED:\n",
    "        i_feature = model.tree_.feature[node]            \n",
    "        threshold = model.tree_.threshold[node]\n",
    "        child_left = model.tree_.children_left[node]\n",
    "        child_right = model.tree_.children_right[node]\n",
    "        \n",
    "        if feature_names is not None:\n",
    "            name = feature_names[i_feature]\n",
    "        else:\n",
    "            name = i_feature\n",
    "                  \n",
    "        if feature_type == 'boolean':\n",
    "            rule_left = '{} is False'.format(name)\n",
    "            rule_right = '{} is True'.format(name)\n",
    "        else:\n",
    "            try:\n",
    "                isboolean = feature_type[i_feature]\n",
    "                if isboolean:\n",
    "                    rule_left = '{} is False'.format(name)\n",
    "                    rule_right = '{} is True'.format(name)\n",
    "                else:\n",
    "                    rule_left = '{} {} {:2.2g} '.format(name, '<', threshold)\n",
    "                    rule_right = '{} {} {:2.2g} '.format(name, '>', threshold)\n",
    "            except:\n",
    "                rule_left = '{} {} {:2.2g} '.format(name, '<', threshold)\n",
    "                rule_right = '{} {} {:2.2g} '.format(name, '>', threshold)\n",
    "        \n",
    "        rules['children'] = [{'name': 'node{:d}'.format(child_left),\n",
    "                              'rule': rule_left,\n",
    "                              'values': list(model.tree_.value[child_left].flatten()),\n",
    "                              'impurity': model.tree_.impurity[child_left]},\n",
    "                             {'name': 'node{:d}'.format(child_right),\n",
    "                              'rule': rule_right,\n",
    "                              'values': list(model.tree_.value[child_right].flatten()),\n",
    "                              'impurity': model.tree_.impurity[child_left]}]\n",
    "        \n",
    "        recurse(model, child_left, rules['children'][0], feature_names=feature_names,\n",
    "                feature_type=feature_type)\n",
    "        recurse(model, child_right, rules['children'][1], feature_names=feature_names,\n",
    "                feature_type=feature_type)\n",
    "    return rules"
   ]
  },
  {
   "cell_type": "code",
   "execution_count": 2,
   "metadata": {
    "collapsed": false
   },
   "outputs": [
    {
     "data": {
      "application/javascript": [
       "\n",
       "require.config({\n",
       "    paths: {\n",
       "        d3: 'https://d3js.org/d3.v4.min',\n",
       "        tree: 'http://localhost:8888/files/tree'\n",
       "    }\n",
       "});"
      ],
      "text/plain": [
       "<IPython.core.display.Javascript object>"
      ]
     },
     "metadata": {},
     "output_type": "display_data"
    }
   ],
   "source": [
    "%%javascript\n",
    "\n",
    "require.config({\n",
    "    paths: {\n",
    "        d3: 'https://d3js.org/d3.v4.min',\n",
    "        tree: 'http://localhost:8888/files/tree'\n",
    "    }\n",
    "});"
   ]
  },
  {
   "cell_type": "code",
   "execution_count": 9,
   "metadata": {
    "collapsed": false
   },
   "outputs": [],
   "source": [
    "from sklearn.tree import DecisionTreeClassifier\n",
    "from sklearn.tree import _tree\n",
    "\n",
    "data = sns.load_dataset('iris')\n",
    "X, y = data.drop('species', axis=1), data['species']\n",
    "\n",
    "model = DecisionTreeClassifier()\n",
    "model.fit(X, y)\n",
    "\n",
    "rules = recurse(model, feature_names=X.columns)\n",
    "rules['class_names'] = list(model.classes_)"
   ]
  },
  {
   "cell_type": "code",
   "execution_count": 10,
   "metadata": {
    "collapsed": false
   },
   "outputs": [
    {
     "data": {
      "text/html": [
       "\n",
       "<style>\n",
       "    .chart {\n",
       "        width: 800px;\n",
       "        height: 600px;\n",
       "        padding: 10px;\n",
       "        display: block;\n",
       "    }\n",
       "</style>\n",
       "<div id=\"chart1\" class=\"chart\"></div>\n",
       "<script>\n",
       "require(['d3', 'tree'], function(d3){\n",
       "    var data = {\"children\": [{\"values\": [50.0, 0.0, 0.0], \"name\": \"node1\", \"impurity\": 0.0, \"rule\": \"petal_length < 2.5 \"}, {\"children\": [{\"children\": [{\"children\": [{\"values\": [0.0, 47.0, 0.0], \"name\": \"node5\", \"impurity\": 0.0, \"rule\": \"petal_width < 1.7 \"}, {\"values\": [0.0, 0.0, 1.0], \"name\": \"node6\", \"impurity\": 0.0, \"rule\": \"petal_width > 1.7 \"}], \"values\": [0.0, 47.0, 1.0], \"name\": \"node4\", \"impurity\": 0.04079861111111116, \"rule\": \"petal_length < 4.9 \"}, {\"children\": [{\"values\": [0.0, 0.0, 3.0], \"name\": \"node8\", \"impurity\": 0.0, \"rule\": \"petal_width < 1.5 \"}, {\"children\": [{\"values\": [0.0, 2.0, 0.0], \"name\": \"node10\", \"impurity\": 0.0, \"rule\": \"sepal_length < 6.9 \"}, {\"values\": [0.0, 0.0, 1.0], \"name\": \"node11\", \"impurity\": 0.0, \"rule\": \"sepal_length > 6.9 \"}], \"values\": [0.0, 2.0, 1.0], \"name\": \"node9\", \"impurity\": 0.0, \"rule\": \"petal_width > 1.5 \"}], \"values\": [0.0, 2.0, 4.0], \"name\": \"node7\", \"impurity\": 0.04079861111111116, \"rule\": \"petal_length > 4.9 \"}], \"values\": [0.0, 49.0, 5.0], \"name\": \"node3\", \"impurity\": 0.16803840877914955, \"rule\": \"petal_width < 1.8 \"}, {\"children\": [{\"children\": [{\"values\": [0.0, 1.0, 0.0], \"name\": \"node14\", \"impurity\": 0.0, \"rule\": \"sepal_length < 5.9 \"}, {\"values\": [0.0, 0.0, 2.0], \"name\": \"node15\", \"impurity\": 0.0, \"rule\": \"sepal_length > 5.9 \"}], \"values\": [0.0, 1.0, 2.0], \"name\": \"node13\", \"impurity\": 0.4444444444444444, \"rule\": \"petal_length < 4.9 \"}, {\"values\": [0.0, 0.0, 43.0], \"name\": \"node16\", \"impurity\": 0.4444444444444444, \"rule\": \"petal_length > 4.9 \"}], \"values\": [0.0, 1.0, 45.0], \"name\": \"node12\", \"impurity\": 0.16803840877914955, \"rule\": \"petal_width > 1.8 \"}], \"values\": [0.0, 50.0, 50.0], \"name\": \"node2\", \"impurity\": 0.0, \"rule\": \"petal_length > 2.5 \"}], \"values\": [50.0, 50.0, 50.0], \"class_names\": [\"setosa\", \"versicolor\", \"virginica\"], \"name\": \"node0\", \"rule\": \"root\"};\n",
       "    var chart = document.getElementById(\"chart1\");\n",
       "    plot_tree(d3, data, chart);\n",
       "});\n",
       "</script>\n"
      ],
      "text/plain": [
       "<IPython.core.display.HTML object>"
      ]
     },
     "execution_count": 10,
     "metadata": {},
     "output_type": "execute_result"
    }
   ],
   "source": [
    "from string import Template\n",
    "\n",
    "html_template = Template(\n",
    "\"\"\"\n",
    "<style>\n",
    "    .chart {\n",
    "        width: 800px;\n",
    "        height: 600px;\n",
    "        padding: 10px;\n",
    "        display: block;\n",
    "    }\n",
    "</style>\n",
    "<div id=\"chart1\" class=\"chart\"></div>\n",
    "<script>\n",
    "require(['d3', 'tree'], function(d3){\n",
    "    var data = $data;\n",
    "    var chart = document.getElementById(\"chart1\");\n",
    "    plot_tree(d3, data, chart);\n",
    "});\n",
    "</script>\n",
    "\"\"\")\n",
    "\n",
    "html_string = html_template.substitute(data=json.dumps(rules))\n",
    "HTML(html_string)"
   ]
  },
  {
   "cell_type": "code",
   "execution_count": 19,
   "metadata": {
    "collapsed": false
   },
   "outputs": [
    {
     "name": "stdout",
     "output_type": "stream",
     "text": [
      "   Unnamed: 0  subject attention  solutions  score\n",
      "0           0        1   divided          1    2.0\n",
      "1           1        2   divided          1    3.0\n",
      "2           2        3   divided          1    3.0\n",
      "3           3        4   divided          1    5.0\n",
      "4           4        5   divided          1    4.0\n"
     ]
    }
   ],
   "source": [
    "from sklearn.tree import DecisionTreeClassifier\n",
    "from sklearn.tree import _tree\n",
    "\n",
    "data = sns.load_dataset('attention')\n",
    "print(data.head())\n",
    "X, y = data[['solutions', 'score']], data['attention']\n",
    "\n",
    "model = DecisionTreeClassifier()\n",
    "model.fit(X, y)\n",
    "\n",
    "rules = recurse(model, feature_names=X.columns)\n",
    "rules['class_names'] = list(model.classes_)"
   ]
  },
  {
   "cell_type": "code",
   "execution_count": 20,
   "metadata": {
    "collapsed": false
   },
   "outputs": [
    {
     "data": {
      "text/html": [
       "\n",
       "<style>\n",
       "    .chart {\n",
       "        width: 800px;\n",
       "        height: 600px;\n",
       "        padding: 10px;\n",
       "        display: block;\n",
       "    }\n",
       "</style>\n",
       "<div id=\"chart2\" class=\"chart\"></div>\n",
       "<script>\n",
       "require(['d3', 'tree'], function(d3){\n",
       "    var data = {\"children\": [{\"children\": [{\"values\": [9.0, 0.0], \"name\": \"node2\", \"impurity\": 0.0, \"rule\": \"score < 4.8 \"}, {\"children\": [{\"values\": [4.0, 1.0], \"name\": \"node4\", \"impurity\": 0.31999999999999995, \"rule\": \"solutions < 1.5 \"}, {\"children\": [{\"values\": [4.0, 2.0], \"name\": \"node6\", \"impurity\": 0.4444444444444444, \"rule\": \"solutions < 2.5 \"}, {\"values\": [2.0, 1.0], \"name\": \"node7\", \"impurity\": 0.4444444444444444, \"rule\": \"solutions > 2.5 \"}], \"values\": [6.0, 3.0], \"name\": \"node5\", \"impurity\": 0.31999999999999995, \"rule\": \"solutions > 1.5 \"}], \"values\": [10.0, 4.0], \"name\": \"node3\", \"impurity\": 0.0, \"rule\": \"score > 4.8 \"}], \"values\": [19.0, 4.0], \"name\": \"node1\", \"impurity\": 0.2873345935727788, \"rule\": \"score < 5.5 \"}, {\"children\": [{\"children\": [{\"children\": [{\"children\": [{\"values\": [1.0, 4.0], \"name\": \"node12\", \"impurity\": 0.31999999999999995, \"rule\": \"solutions < 1.5 \"}, {\"values\": [0.0, 2.0], \"name\": \"node13\", \"impurity\": 0.31999999999999995, \"rule\": \"solutions > 1.5 \"}], \"values\": [1.0, 6.0], \"name\": \"node11\", \"impurity\": 0.24489795918367352, \"rule\": \"score < 6.5 \"}, {\"children\": [{\"values\": [0.0, 2.0], \"name\": \"node15\", \"impurity\": 0.0, \"rule\": \"solutions < 1.5 \"}, {\"values\": [2.0, 1.0], \"name\": \"node16\", \"impurity\": 0.0, \"rule\": \"solutions > 1.5 \"}], \"values\": [2.0, 3.0], \"name\": \"node14\", \"impurity\": 0.24489795918367352, \"rule\": \"score > 6.5 \"}], \"values\": [3.0, 9.0], \"name\": \"node10\", \"impurity\": 0.375, \"rule\": \"score < 7.5 \"}, {\"values\": [0.0, 8.0], \"name\": \"node17\", \"impurity\": 0.375, \"rule\": \"score > 7.5 \"}], \"values\": [3.0, 17.0], \"name\": \"node9\", \"impurity\": 0.255, \"rule\": \"solutions < 2.5 \"}, {\"children\": [{\"children\": [{\"children\": [{\"values\": [4.0, 4.0], \"name\": \"node21\", \"impurity\": 0.5, \"rule\": \"score < 6.5 \"}, {\"values\": [2.0, 3.0], \"name\": \"node22\", \"impurity\": 0.5, \"rule\": \"score > 6.5 \"}], \"values\": [6.0, 7.0], \"name\": \"node20\", \"impurity\": 0.4970414201183432, \"rule\": \"score < 7.5 \"}, {\"values\": [2.0, 1.0], \"name\": \"node23\", \"impurity\": 0.4970414201183432, \"rule\": \"score > 7.5 \"}], \"values\": [8.0, 8.0], \"name\": \"node19\", \"impurity\": 0.5, \"rule\": \"score < 8.5 \"}, {\"values\": [0.0, 1.0], \"name\": \"node24\", \"impurity\": 0.5, \"rule\": \"score > 8.5 \"}], \"values\": [8.0, 9.0], \"name\": \"node18\", \"impurity\": 0.255, \"rule\": \"solutions > 2.5 \"}], \"values\": [11.0, 26.0], \"name\": \"node8\", \"impurity\": 0.2873345935727788, \"rule\": \"score > 5.5 \"}], \"values\": [30.0, 30.0], \"class_names\": [\"divided\", \"focused\"], \"name\": \"node0\", \"rule\": \"root\"};\n",
       "    var chart = document.getElementById(\"chart2\");\n",
       "    plot_tree(d3, data, chart);\n",
       "});\n",
       "</script>\n"
      ],
      "text/plain": [
       "<IPython.core.display.HTML object>"
      ]
     },
     "execution_count": 20,
     "metadata": {},
     "output_type": "execute_result"
    }
   ],
   "source": [
    "html_template = Template(\n",
    "\"\"\"\n",
    "<style>\n",
    "    .chart {\n",
    "        width: 800px;\n",
    "        height: 600px;\n",
    "        padding: 10px;\n",
    "        display: block;\n",
    "    }\n",
    "</style>\n",
    "<div id=\"chart2\" class=\"chart\"></div>\n",
    "<script>\n",
    "require(['d3', 'tree'], function(d3){\n",
    "    var data = $data;\n",
    "    var chart = document.getElementById(\"chart2\");\n",
    "    plot_tree(d3, data, chart);\n",
    "});\n",
    "</script>\n",
    "\"\"\")\n",
    "\n",
    "html_string = html_template.substitute(data=json.dumps(rules))\n",
    "HTML(html_string)"
   ]
  },
  {
   "cell_type": "code",
   "execution_count": 31,
   "metadata": {
    "collapsed": false
   },
   "outputs": [
    {
     "ename": "ValueError",
     "evalue": "could not convert string to float: 'no fat'",
     "output_type": "error",
     "traceback": [
      "\u001b[0;31m---------------------------------------------------------------------------\u001b[0m",
      "\u001b[0;31mValueError\u001b[0m                                Traceback (most recent call last)",
      "\u001b[0;32m<ipython-input-31-59ad540e903d>\u001b[0m in \u001b[0;36m<module>\u001b[0;34m()\u001b[0m\n\u001b[1;32m      7\u001b[0m \u001b[0;34m\u001b[0m\u001b[0m\n\u001b[1;32m      8\u001b[0m \u001b[0mmodel\u001b[0m \u001b[0;34m=\u001b[0m \u001b[0mDecisionTreeClassifier\u001b[0m\u001b[0;34m(\u001b[0m\u001b[0;34m)\u001b[0m\u001b[0;34m\u001b[0m\u001b[0m\n\u001b[0;32m----> 9\u001b[0;31m \u001b[0mmodel\u001b[0m\u001b[0;34m.\u001b[0m\u001b[0mfit\u001b[0m\u001b[0;34m(\u001b[0m\u001b[0mX\u001b[0m\u001b[0;34m,\u001b[0m \u001b[0my\u001b[0m\u001b[0;34m)\u001b[0m\u001b[0;34m\u001b[0m\u001b[0m\n\u001b[0m\u001b[1;32m     10\u001b[0m \u001b[0;34m\u001b[0m\u001b[0m\n\u001b[1;32m     11\u001b[0m \u001b[0mrules\u001b[0m \u001b[0;34m=\u001b[0m \u001b[0mrecurse\u001b[0m\u001b[0;34m(\u001b[0m\u001b[0mmodel\u001b[0m\u001b[0;34m,\u001b[0m \u001b[0mfeature_names\u001b[0m\u001b[0;34m=\u001b[0m\u001b[0mX\u001b[0m\u001b[0;34m.\u001b[0m\u001b[0mcolumns\u001b[0m\u001b[0;34m)\u001b[0m\u001b[0;34m\u001b[0m\u001b[0m\n",
      "\u001b[0;32m/home/matthias/anaconda3/lib/python3.5/site-packages/sklearn/tree/tree.py\u001b[0m in \u001b[0;36mfit\u001b[0;34m(self, X, y, sample_weight, check_input, X_idx_sorted)\u001b[0m\n\u001b[1;32m    788\u001b[0m             \u001b[0msample_weight\u001b[0m\u001b[0;34m=\u001b[0m\u001b[0msample_weight\u001b[0m\u001b[0;34m,\u001b[0m\u001b[0;34m\u001b[0m\u001b[0m\n\u001b[1;32m    789\u001b[0m             \u001b[0mcheck_input\u001b[0m\u001b[0;34m=\u001b[0m\u001b[0mcheck_input\u001b[0m\u001b[0;34m,\u001b[0m\u001b[0;34m\u001b[0m\u001b[0m\n\u001b[0;32m--> 790\u001b[0;31m             X_idx_sorted=X_idx_sorted)\n\u001b[0m\u001b[1;32m    791\u001b[0m         \u001b[0;32mreturn\u001b[0m \u001b[0mself\u001b[0m\u001b[0;34m\u001b[0m\u001b[0m\n\u001b[1;32m    792\u001b[0m \u001b[0;34m\u001b[0m\u001b[0m\n",
      "\u001b[0;32m/home/matthias/anaconda3/lib/python3.5/site-packages/sklearn/tree/tree.py\u001b[0m in \u001b[0;36mfit\u001b[0;34m(self, X, y, sample_weight, check_input, X_idx_sorted)\u001b[0m\n\u001b[1;32m    114\u001b[0m         \u001b[0mrandom_state\u001b[0m \u001b[0;34m=\u001b[0m \u001b[0mcheck_random_state\u001b[0m\u001b[0;34m(\u001b[0m\u001b[0mself\u001b[0m\u001b[0;34m.\u001b[0m\u001b[0mrandom_state\u001b[0m\u001b[0;34m)\u001b[0m\u001b[0;34m\u001b[0m\u001b[0m\n\u001b[1;32m    115\u001b[0m         \u001b[0;32mif\u001b[0m \u001b[0mcheck_input\u001b[0m\u001b[0;34m:\u001b[0m\u001b[0;34m\u001b[0m\u001b[0m\n\u001b[0;32m--> 116\u001b[0;31m             \u001b[0mX\u001b[0m \u001b[0;34m=\u001b[0m \u001b[0mcheck_array\u001b[0m\u001b[0;34m(\u001b[0m\u001b[0mX\u001b[0m\u001b[0;34m,\u001b[0m \u001b[0mdtype\u001b[0m\u001b[0;34m=\u001b[0m\u001b[0mDTYPE\u001b[0m\u001b[0;34m,\u001b[0m \u001b[0maccept_sparse\u001b[0m\u001b[0;34m=\u001b[0m\u001b[0;34m\"csc\"\u001b[0m\u001b[0;34m)\u001b[0m\u001b[0;34m\u001b[0m\u001b[0m\n\u001b[0m\u001b[1;32m    117\u001b[0m             \u001b[0my\u001b[0m \u001b[0;34m=\u001b[0m \u001b[0mcheck_array\u001b[0m\u001b[0;34m(\u001b[0m\u001b[0my\u001b[0m\u001b[0;34m,\u001b[0m \u001b[0mensure_2d\u001b[0m\u001b[0;34m=\u001b[0m\u001b[0;32mFalse\u001b[0m\u001b[0;34m,\u001b[0m \u001b[0mdtype\u001b[0m\u001b[0;34m=\u001b[0m\u001b[0;32mNone\u001b[0m\u001b[0;34m)\u001b[0m\u001b[0;34m\u001b[0m\u001b[0m\n\u001b[1;32m    118\u001b[0m             \u001b[0;32mif\u001b[0m \u001b[0missparse\u001b[0m\u001b[0;34m(\u001b[0m\u001b[0mX\u001b[0m\u001b[0;34m)\u001b[0m\u001b[0;34m:\u001b[0m\u001b[0;34m\u001b[0m\u001b[0m\n",
      "\u001b[0;32m/home/matthias/anaconda3/lib/python3.5/site-packages/sklearn/utils/validation.py\u001b[0m in \u001b[0;36mcheck_array\u001b[0;34m(array, accept_sparse, dtype, order, copy, force_all_finite, ensure_2d, allow_nd, ensure_min_samples, ensure_min_features, warn_on_dtype, estimator)\u001b[0m\n\u001b[1;32m    431\u001b[0m                                       force_all_finite)\n\u001b[1;32m    432\u001b[0m     \u001b[0;32melse\u001b[0m\u001b[0;34m:\u001b[0m\u001b[0;34m\u001b[0m\u001b[0m\n\u001b[0;32m--> 433\u001b[0;31m         \u001b[0marray\u001b[0m \u001b[0;34m=\u001b[0m \u001b[0mnp\u001b[0m\u001b[0;34m.\u001b[0m\u001b[0marray\u001b[0m\u001b[0;34m(\u001b[0m\u001b[0marray\u001b[0m\u001b[0;34m,\u001b[0m \u001b[0mdtype\u001b[0m\u001b[0;34m=\u001b[0m\u001b[0mdtype\u001b[0m\u001b[0;34m,\u001b[0m \u001b[0morder\u001b[0m\u001b[0;34m=\u001b[0m\u001b[0morder\u001b[0m\u001b[0;34m,\u001b[0m \u001b[0mcopy\u001b[0m\u001b[0;34m=\u001b[0m\u001b[0mcopy\u001b[0m\u001b[0;34m)\u001b[0m\u001b[0;34m\u001b[0m\u001b[0m\n\u001b[0m\u001b[1;32m    434\u001b[0m \u001b[0;34m\u001b[0m\u001b[0m\n\u001b[1;32m    435\u001b[0m         \u001b[0;32mif\u001b[0m \u001b[0mensure_2d\u001b[0m\u001b[0;34m:\u001b[0m\u001b[0;34m\u001b[0m\u001b[0m\n",
      "\u001b[0;31mValueError\u001b[0m: could not convert string to float: 'no fat'"
     ]
    }
   ],
   "source": [
    "from sklearn.tree import DecisionTreeClassifier\n",
    "from sklearn.tree import _tree\n",
    "\n",
    "data = sns.load_dataset('exercise')\n",
    "data['time'] = pd.to_timedelta(data['time']).apply(lambda x: x.total_seconds()/60)\n",
    "X, y = data[['diet', 'pulse', 'time']], data['kind']\n",
    "\n",
    "model = DecisionTreeClassifier()\n",
    "model.fit(X, y)\n",
    "\n",
    "rules = recurse(model, feature_names=X.columns)\n",
    "rules['class_names'] = list(model.classes_)"
   ]
  }
 ],
 "metadata": {
  "kernelspec": {
   "display_name": "Python 3",
   "language": "python",
   "name": "python3"
  },
  "language_info": {
   "codemirror_mode": {
    "name": "ipython",
    "version": 3
   },
   "file_extension": ".py",
   "mimetype": "text/x-python",
   "name": "python",
   "nbconvert_exporter": "python",
   "pygments_lexer": "ipython3",
   "version": "3.5.3"
  }
 },
 "nbformat": 4,
 "nbformat_minor": 2
}
