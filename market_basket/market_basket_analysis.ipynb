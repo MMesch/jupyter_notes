{
 "cells": [
  {
   "cell_type": "code",
   "execution_count": 1,
   "metadata": {
    "collapsed": true
   },
   "outputs": [],
   "source": [
    "import numpy as np\n",
    "import matplotlib.pyplot as plt\n",
    "import pandas as pd\n",
    "import seaborn as sns\n",
    "\n",
    "%matplotlib inline"
   ]
  },
  {
   "cell_type": "markdown",
   "metadata": {},
   "source": [
    "# Market Basket Analysis\n",
    "\n",
    "minimal example, inspired by: https://dzenanhamzic.com/2017/01/19/market-basket-analysis-mining-frequent-pairs-in-python/"
   ]
  },
  {
   "cell_type": "code",
   "execution_count": 11,
   "metadata": {
    "collapsed": true
   },
   "outputs": [],
   "source": [
    "transaction_df = pd.DataFrame({'Beer': [1,0,1,0,1,0,0,1],\n",
    "                               'Coke': [0,1,1,0,1,0,0,1],\n",
    "                               'Pepsi': [1,0,0,1,0,0,1,0],\n",
    "                               'Milk': [0,1,0,1,1,1,0,1],\n",
    "                               'Juice': [0,0,1,0,0,1,1,1],\n",
    "                               'Yeast': [0, 0, 0, 1, 1, 1, 0, 0],\n",
    "                               'flour': [0, 1, 0, 1, 0, 1, 0, 0],\n",
    "                               'eggs': [0, 1, 0, 1, 1, 1, 0, 0]})"
   ]
  },
  {
   "cell_type": "code",
   "execution_count": 14,
   "metadata": {
    "collapsed": false
   },
   "outputs": [
    {
     "name": "stderr",
     "output_type": "stream",
     "text": [
      "/home/matthias/anaconda3/lib/python3.5/site-packages/matplotlib/cbook.py:136: MatplotlibDeprecationWarning: The axisbg attribute was deprecated in version 2.0. Use facecolor instead.\n",
      "  warnings.warn(message, mplDeprecation, stacklevel=1)\n"
     ]
    },
    {
     "data": {
      "text/plain": [
       "<seaborn.matrix.ClusterGrid at 0x7fd421645d30>"
      ]
     },
     "execution_count": 14,
     "metadata": {},
     "output_type": "execute_result"
    },
    {
     "data": {
      "image/png": "[encoded data removed]",
      "text/plain": [
       "<matplotlib.figure.Figure at 0x7fd4216456d8>"
      ]
     },
     "metadata": {},
     "output_type": "display_data"
    }
   ],
   "source": [
    "# compute all products\n",
    "\n",
    "matrix = np.sum(transaction_df.as_matrix()[:, :, None] * transaction_df.as_matrix()[:, None, :], axis=0)\n",
    "\n",
    "frequency_items_df = pd.DataFrame(matrix, index=transaction_df.columns,\n",
    "                                  columns=transaction_df.columns)\n",
    "sns.clustermap(frequency_items_df)"
   ]
  }
 ],
 "metadata": {
  "kernelspec": {
   "display_name": "Python 3",
   "language": "python",
   "name": "python3"
  },
  "language_info": {
   "codemirror_mode": {
    "name": "ipython",
    "version": 3
   },
   "file_extension": ".py",
   "mimetype": "text/x-python",
   "name": "python",
   "nbconvert_exporter": "python",
   "pygments_lexer": "ipython3",
   "version": "3.5.3"
  }
 },
 "nbformat": 4,
 "nbformat_minor": 2
}
